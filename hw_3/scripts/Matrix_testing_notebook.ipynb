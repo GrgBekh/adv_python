{
 "cells": [
  {
   "cell_type": "code",
   "execution_count": 26,
   "id": "fbe71782",
   "metadata": {},
   "outputs": [],
   "source": [
    "import numpy as np\n",
    "import sys\n",
    "from numpy.lib.mixins import NDArrayOperatorsMixin\n",
    "sys.path.append('..')\n",
    "from utils.MatrixModule import Matrix\n",
    "from utils.MixinMatrixModule import MixinMatrix\n",
    "from utils.MatrixModuleWithHash import HashableMatrix"
   ]
  },
  {
   "cell_type": "code",
   "execution_count": 27,
   "id": "f6cd2d47",
   "metadata": {},
   "outputs": [],
   "source": [
    "np.random.seed(0)"
   ]
  },
  {
   "cell_type": "code",
   "execution_count": 28,
   "id": "7c76f128",
   "metadata": {},
   "outputs": [],
   "source": [
    "A_gen = np.random.randint(0, 10, (10, 10)).tolist()\n",
    "B_gen = np.random.randint(0, 10, (10, 10)).tolist()\n",
    "\n",
    "A = Matrix(A_gen)\n",
    "B = Matrix(B_gen)\n",
    "\n",
    "matrix_sum = A + B\n",
    "matrix_hdmrd = A * B\n",
    "matrix_mul = A @ B\n",
    "\n",
    "np.savetxt('../artifacts/3.1/matrix_sum.txt', np.array(matrix_sum.data), fmt='%d', delimiter=\",\")\n",
    "np.savetxt('../artifacts/3.1/matrix_hdmrd.txt', np.array(matrix_hdmrd.data), fmt='%d', delimiter=\",\")\n",
    "np.savetxt('../artifacts/3.1/matrix_mul.txt', np.array(matrix_mul.data), fmt='%d', delimiter=\",\")"
   ]
  },
  {
   "cell_type": "code",
   "execution_count": 29,
   "id": "a1941ff4",
   "metadata": {},
   "outputs": [],
   "source": [
    "A = MixinMatrix(A_gen)\n",
    "B = MixinMatrix(B_gen)\n",
    "\n",
    "matrix_sum = A + B\n",
    "matrix_hdmrd = A * B\n",
    "matrix_mul = A @ B\n",
    "\n",
    "matrix_sum.save('../artifacts/3.2/matrix_sum.txt')\n",
    "matrix_hdmrd.save('../artifacts/3.2/matrix_hdmrd.txt')\n",
    "matrix_mul.save('../artifacts/3.2/matrix_mul.txt')"
   ]
  },
  {
   "cell_type": "code",
   "execution_count": 30,
   "id": "354fe15f",
   "metadata": {},
   "outputs": [],
   "source": [
    "A =  [[1, 2], [3, 4]]\n",
    "B =  [[1, 2], [7, 13]]\n",
    "C =   [[17, 18], [19, 4]]\n",
    "D = B"
   ]
  },
  {
   "cell_type": "code",
   "execution_count": 31,
   "id": "3100ab57",
   "metadata": {},
   "outputs": [],
   "source": [
    "A = HashableMatrix(A)\n",
    "B = HashableMatrix(B)\n",
    "C = HashableMatrix(C)\n",
    "D = HashableMatrix(D)"
   ]
  },
  {
   "cell_type": "code",
   "execution_count": 32,
   "id": "5083b44d",
   "metadata": {},
   "outputs": [],
   "source": [
    "mat_sum = A + B\n",
    "mat_hdmr_mul =  A * B\n",
    "mat_mul =  A @ B"
   ]
  },
  {
   "cell_type": "code",
   "execution_count": 33,
   "id": "aad13569",
   "metadata": {},
   "outputs": [
    {
     "data": {
      "text/plain": [
       "4"
      ]
     },
     "execution_count": 33,
     "metadata": {},
     "output_type": "execute_result"
    }
   ],
   "source": [
    "hash(A @ B)"
   ]
  },
  {
   "cell_type": "code",
   "execution_count": 34,
   "id": "a03d37c2",
   "metadata": {},
   "outputs": [
    {
     "data": {
      "text/plain": [
       "4"
      ]
     },
     "execution_count": 34,
     "metadata": {},
     "output_type": "execute_result"
    }
   ],
   "source": [
    "hash(C @ D)"
   ]
  },
  {
   "cell_type": "code",
   "execution_count": 35,
   "id": "9fc55dd9",
   "metadata": {},
   "outputs": [],
   "source": [
    "AB = A@B\n",
    "CD = C@D"
   ]
  },
  {
   "cell_type": "code",
   "execution_count": 36,
   "id": "61a85264",
   "metadata": {},
   "outputs": [],
   "source": [
    "np.savetxt('../artifacts/3.3/A.txt', np.array(A.data), fmt='%d', delimiter=\",\")\n",
    "np.savetxt('../artifacts/3.3/B.txt', np.array(B.data), fmt='%d', delimiter=\",\")\n",
    "np.savetxt('../artifacts/3.3/C.txt', np.array(C.data), fmt='%d', delimiter=\",\")\n",
    "np.savetxt('../artifacts/3.3/D.txt', np.array(D.data), fmt='%d', delimiter=\",\")\n",
    "np.savetxt('../artifacts/3.3/AB.txt', np.array(AB.data), fmt='%d', delimiter=\",\")\n",
    "np.savetxt('../artifacts/3.3/CD.txt', np.array(CD.data), fmt='%d', delimiter=\",\")"
   ]
  },
  {
   "cell_type": "code",
   "execution_count": 37,
   "id": "f25d0556",
   "metadata": {},
   "outputs": [],
   "source": [
    "hashes_vals = {'A' : hash(A), 'B': hash(B), 'C' : hash(C), 'D': hash(D), 'AB' : hash(A@B), 'CD': hash(C@D)}\n",
    "\n",
    "with open('../artifacts/3.3/hash.txt', 'w') as f:\n",
    "    for matrix in hashes_vals.keys():\n",
    "        f.write(f'hash({matrix}) = {hashes_vals[matrix]}\\n')"
   ]
  },
  {
   "cell_type": "code",
   "execution_count": null,
   "id": "7f7d294c",
   "metadata": {},
   "outputs": [],
   "source": []
  },
  {
   "cell_type": "code",
   "execution_count": null,
   "id": "02f93154",
   "metadata": {},
   "outputs": [],
   "source": []
  },
  {
   "cell_type": "code",
   "execution_count": null,
   "id": "3e5e66f2",
   "metadata": {},
   "outputs": [],
   "source": []
  },
  {
   "cell_type": "code",
   "execution_count": null,
   "id": "2b60f3e3",
   "metadata": {},
   "outputs": [],
   "source": []
  }
 ],
 "metadata": {
  "kernelspec": {
   "display_name": "Python 3 (ipykernel)",
   "language": "python",
   "name": "python3"
  },
  "language_info": {
   "codemirror_mode": {
    "name": "ipython",
    "version": 3
   },
   "file_extension": ".py",
   "mimetype": "text/x-python",
   "name": "python",
   "nbconvert_exporter": "python",
   "pygments_lexer": "ipython3",
   "version": "3.11.5"
  }
 },
 "nbformat": 4,
 "nbformat_minor": 5
}
